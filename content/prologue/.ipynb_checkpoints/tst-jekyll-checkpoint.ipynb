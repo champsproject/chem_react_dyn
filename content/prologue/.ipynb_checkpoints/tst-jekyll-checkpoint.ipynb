{
 "cells": [
  {
   "cell_type": "markdown",
   "metadata": {},
   "source": [
    "Transition State Theory is a classical theory developed by Wigner, Eyring, Gwynne Evans and Polanyi, {% cite Wigner1932 Eyring1935 Polanyi1935 Eyring1941 --file myBib %} that calculates the rate of the reaction as the equilibrium flux of reactive trajectories through the DS. Although there has been much discussion of quantum mechanical analogs of TST {% cite Pechukas1982 WaalkensWiggins2007 --file myBib %} , we will briefly discuss in this book the original version based on classical mechanics, since the dividing surface concept, that we use, is incompatible with quantum mechanics. The overview that we give is not supposed to be a review of the vast literature that exists in this area, but to connect the  mathematical study of the geometrical structures that characterize reaction dynamics in phase space. \n",
    "\n",
    "It is commonly claimed that conventional TST makes two main assumptions. {% cite Mahan1974 --file myBib %}\n",
    "\n",
    "* The first, called the equilibrium assumption, requires that the reactant state and TS be in thermal equilibrium. The maintenance of energetic equilibrium means that the thermalization maintaining this equilibrium is (at least) as fast as the rate at which these states are depopulated. {% cite TruhlarVTST2017 GarretTruhlarGTST1979 --file myBib %} The equilibrium condition is usually satisfied for most gas-phase bimolecular reactions and for reactions in the liquid phase, because energy exchange between solutes and solvent is usually rapid enough to maintain the equilibrium.{% cite JBAnderson1973 JBAnderson1995 --file myBib %} However, there are cases where equilibrium is not maintained, even in solution.{% cite EssafiHarvey2018 --file myBib %} In addition, for unimolecular reactions of intermediates with low barriers to product formation, it is commonly the case that most trajectories coming from the reactant state will have enough energy in a product-forming reaction coordinate to cross the second barrier as soon as they reach it.{% cite Carpenter1985 EzraWiggins2014 --file myBib %} \n",
    "\n",
    "* The second claimed assumption specifies that any trajectory crossing the TS dividing surface from the reactant state is on a path towards the product state and will reach it without recrossing the dividing surface prior to the product being reached.{% cite TruhlarVTST1980 --file myBib %} Because the rate is calculated as the flux through the TS, any non-reactive trajectory that crosses the TS dividing surface, or reactive trajectory that crosses it more than once will increase the flux through the dividing surface, thus leading to an overestimate of the rate constant. This means that TST gives us an upper limit on the true rate constant, and that if we found a dividing surface without any recrossing then TST would give the exact value of the rate constant (subject to certain caveats{% cite JCP2016Maug --file myBib %}). \n",
    "\n",
    "\n",
    "In conventional TST the transition state dividing surface is located at the saddle point, which is the maximum energy point on the minimum energy path from reactants to products. However, TST is most powerful in the form of Variational Transition State Theory (VTST), {% cite TruhlarVTST2017 GarretTruhlarGTST1979 TruhlarVTST1980 TruhlarGarretVTST1984 GarretTruhlarJCP1979 Keck1960 Horiuti1938 Wigner1937 --file myBib %} which is a generalization of TST that removes the restriction on the dividing surface to cross the saddle point. In VTST the dividing surface is variationally optimized to minimize the rate constant, usually by finding the maximum free energy along the reaction path. Although this surface is properly located in phase space, most of the VTST calculations assume that the TS can be found in configuration space.{% cite Carpenter1985 --file myBib %} "
   ]
  },
  {
   "cell_type": "markdown",
   "metadata": {},
   "source": [
    "# References\n",
    "{% bibliography --file myBib --cited %}"
   ]
  }
 ],
 "metadata": {
  "kernelspec": {
   "display_name": "Python 3",
   "language": "python",
   "name": "python3"
  },
  "language_info": {
   "codemirror_mode": {
    "name": "ipython",
    "version": 3
   },
   "file_extension": ".py",
   "mimetype": "text/x-python",
   "name": "python",
   "nbconvert_exporter": "python",
   "pygments_lexer": "ipython3",
   "version": "3.7.1"
  },
  "toc": {
   "base_numbering": 1,
   "nav_menu": {},
   "number_sections": false,
   "sideBar": true,
   "skip_h1_title": false,
   "title_cell": "Table of Contents",
   "title_sidebar": "Contents",
   "toc_cell": false,
   "toc_position": {},
   "toc_section_display": true,
   "toc_window_display": false
  }
 },
 "nbformat": 4,
 "nbformat_minor": 2
}
