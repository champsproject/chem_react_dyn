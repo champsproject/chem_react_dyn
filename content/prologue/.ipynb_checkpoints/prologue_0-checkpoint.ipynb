{
 "cells": [
  {
   "cell_type": "markdown",
   "metadata": {},
   "source": [
    "Some text here"
   ]
  },
  {
   "cell_type": "markdown",
   "metadata": {},
   "source": [
    "## List of Acronyms\n",
    "\n",
    "+ DS - Dividing Surface.\n",
    "+ PODS - Periodic Orbit Dividing Surface.\n",
    "+ NHIM - Normally Hyperbolic Invariant Manifold.\n",
    "+ UOP - Unstable Periodic Orbit.\n",
    "+ RI - Reactive Islands.\n",
    "+ LDs - Lagrangian Descriptors.\n",
    "+ PSOS - Poincare Surface of Section.\n",
    "+ TST - Transition State Theory.\n",
    "+ TS - Transition State.\n",
    "+ PES - Potential Energy Surface. "
   ]
  }
 ],
 "metadata": {
  "kernelspec": {
   "display_name": "Python 3",
   "language": "python",
   "name": "python3"
  },
  "language_info": {
   "codemirror_mode": {
    "name": "ipython",
    "version": 3
   },
   "file_extension": ".py",
   "mimetype": "text/x-python",
   "name": "python",
   "nbconvert_exporter": "python",
   "pygments_lexer": "ipython3",
   "version": "3.7.1"
  },
  "toc": {
   "base_numbering": 1,
   "nav_menu": {},
   "number_sections": false,
   "sideBar": true,
   "skip_h1_title": false,
   "title_cell": "Table of Contents",
   "title_sidebar": "Contents",
   "toc_cell": false,
   "toc_position": {},
   "toc_section_display": true,
   "toc_window_display": false
  }
 },
 "nbformat": 4,
 "nbformat_minor": 2
}
