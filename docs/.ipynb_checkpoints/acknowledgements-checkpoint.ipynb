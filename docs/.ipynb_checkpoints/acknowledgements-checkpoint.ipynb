{
 "cells": [
  {
   "cell_type": "markdown",
   "metadata": {},
   "source": [
    "# Acknowledgements"
   ]
  },
  {
   "cell_type": "markdown",
   "metadata": {},
   "source": [
    "This book sprint was held December 6-9, 2019 at Engineers House in Bristol, United Kingdom (https://www.makeuk.org/venues/engineers-house-bristol). We are grateful to Martyn Bowen and  the staff at Engineers House for providing a comfortable, stimulating, and inspiring environment which facilitated the intensive work  and collaboration  that was required to make this book sprint successful. \n",
    "\n",
    "Funding for the book sprint was provided by the Chemistry and Mathematics in Phase Space (CHAMPS)  project (https://champsproject.com/). This is a six year  Programme Grant funded by the Engineering and Physical Sciences Research Council (EPSRC) led by the School of Mathematics at the University of Bristol, and in collaboration  with the School of Chemistry at the University of Bristol, the School of Chemistry at Cardiff University, the School of Chemistry at Leeds University, and the Department of Mathematics at Imperial College.\n",
    "\n",
    "We are extremely grateful to the project manager for CHAMPS, Ms. Eleanor Machin, who makes this collaboration involving 12 postdoctoral researchers, one PI,  four  co-Is, and a steady stream of visitors, work “as smooth as clockwork”. \n",
    "\n",
    "We are grateful for the many open-source contributions to the tools we used in this book sprint, in particular Jupyter Books, originally created by Sam Lau and Chris Holdgraf with support of the University of California  Berkeley Data Science Education Program and the Berkeley Institute for Data Science. (Jupyter Books Version v0.5 (May 2019), Chris Holdgraf; Jan Kleinert; Elizabeth DuPre; Mainak Jas; Alexander Morley; Matthew Brett; Matt Craig; Erik Sundell; Sam Lau; Luke; gaow; stafforddavidj; cnydw; Zachary Sailer; Tom; Mathieu Boudreau; James Mason; Ariel Rokem. Zenodo archive, DOI:10.5281/zenodo.2799972). Lorena Barba contributed to the  planning of this book sprint and the book “Teaching and Learning with Jupyter, also the product of a book sprint, served as inspiration (https://jupyter4edu.github.io/jupyter-edu-book/index.html).\n"
   ]
  }
 ],
 "metadata": {
  "kernelspec": {
   "display_name": "Python 3",
   "language": "python",
   "name": "python3"
  },
  "language_info": {
   "codemirror_mode": {
    "name": "ipython",
    "version": 3
   },
   "file_extension": ".py",
   "mimetype": "text/x-python",
   "name": "python",
   "nbconvert_exporter": "python",
   "pygments_lexer": "ipython3",
   "version": "3.7.1"
  },
  "latex_envs": {
   "LaTeX_envs_menu_present": true,
   "autoclose": false,
   "autocomplete": true,
   "bibliofile": "/Users/bas/research/book_sprint/champs-booksprint-planning/convert_tex2html/article_test/sample.bib",
   "cite_by": "apalike",
   "current_citInitial": 1,
   "eqLabelWithNumbers": true,
   "eqNumInitial": 1,
   "hotkeys": {
    "equation": "Ctrl-E",
    "itemize": "Ctrl-I"
   },
   "labels_anchors": false,
   "latex_user_defs": false,
   "report_style_numbering": false,
   "user_envs_cfg": false
  },
  "toc": {
   "base_numbering": 1,
   "nav_menu": {},
   "number_sections": true,
   "sideBar": true,
   "skip_h1_title": false,
   "title_cell": "Table of Contents",
   "title_sidebar": "Contents",
   "toc_cell": false,
   "toc_position": {},
   "toc_section_display": true,
   "toc_window_display": true
  }
 },
 "nbformat": 4,
 "nbformat_minor": 2
}
