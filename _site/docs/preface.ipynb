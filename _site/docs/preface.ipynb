{
 "cells": [
  {
   "cell_type": "markdown",
   "metadata": {},
   "source": [
    "# Preface"
   ]
  },
  {
   "cell_type": "markdown",
   "metadata": {},
   "source": [
    "Chemistry is concerned with the transformation of matter. In more detail, it is concerned with the breaking, formation, and rearrangement of bonds in molecules. Fundamentally, these descriptions highlight “changes in time”. Mathematically, the study of systems changing in time is the subject of dynamical systems theory.  This book represents an account of our research group’s efforts to date in bringing the mathematical framework of dynamical systems theory to bear on chemical reaction dynamics. \n",
    "\n",
    "Researchers are increasingly finding that the conventional model describing chemical reactions are qualitatively and quantitatively inadequate for understanding and exploiting the emerging dynamical view of chemical transformation. Historically (e.g. beginning with Newton) dynamics has been an area of research that has proven to be fertile ground for the development of numerous areas of seemingly disparate fields of mathematics (e.g. topology, number theory, and Fourier analysis). \n",
    "\n",
    "Our vision and ambition for this book sprint is to highlight the power and insight that “dynamical mathematics” can bring to the study of chemical reaction dynamics.  It is our hope that this book sprint will encourage both mathematicians and chemists to further  develop collaborative efforts  using the framework of applied and  computational  dynamical systems theory. An advantage of this open, github  based project, Is that it provides an opportunity for a world wide scientific dialog on this topic, and we warmly invite other researchers to join with us on the further development of this topic and to participate in this way.\n",
    "\n"
   ]
  }
 ],
 "metadata": {
  "kernelspec": {
   "display_name": "Python 3",
   "language": "python",
   "name": "python3"
  },
  "language_info": {
   "codemirror_mode": {
    "name": "ipython",
    "version": 3
   },
   "file_extension": ".py",
   "mimetype": "text/x-python",
   "name": "python",
   "nbconvert_exporter": "python",
   "pygments_lexer": "ipython3",
   "version": "3.7.1"
  },
  "latex_envs": {
   "LaTeX_envs_menu_present": true,
   "autoclose": false,
   "autocomplete": true,
   "bibliofile": "/Users/bas/research/book_sprint/champs-booksprint-planning/convert_tex2html/article_test/sample.bib",
   "cite_by": "apalike",
   "current_citInitial": 1,
   "eqLabelWithNumbers": true,
   "eqNumInitial": 1,
   "hotkeys": {
    "equation": "Ctrl-E",
    "itemize": "Ctrl-I"
   },
   "labels_anchors": false,
   "latex_user_defs": false,
   "report_style_numbering": false,
   "user_envs_cfg": false
  },
  "toc": {
   "base_numbering": 1,
   "nav_menu": {},
   "number_sections": true,
   "sideBar": true,
   "skip_h1_title": false,
   "title_cell": "Table of Contents",
   "title_sidebar": "Contents",
   "toc_cell": false,
   "toc_position": {},
   "toc_section_display": true,
   "toc_window_display": true
  }
 },
 "nbformat": 4,
 "nbformat_minor": 2
}
