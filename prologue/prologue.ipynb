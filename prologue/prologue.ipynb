{
 "cells": [
  {
   "cell_type": "markdown",
   "metadata": {},
   "source": [
    "# Prologos"
   ]
  },
  {
   "cell_type": "markdown",
   "metadata": {},
   "source": [
    "## List of Acronyms\n",
    "\n",
    "+ DS - Dividing Surface.\n",
    "+ PODS - Periodic Orbit Dividing Surface.\n",
    "+ NHIM - Normally Hyperbolic Invariant Manifold.\n",
    "+ UOP - Unstable Periodic Orbit.\n",
    "+ RI - Reactive Islands.\n",
    "+ LDs - Lagrangian Descriptors.\n",
    "+ PSOS - Poincare Surface of Section.\n",
    "+ TST - Transition State Theory.\n",
    "+ TS - Transition State.\n",
    "+ PES - Potential Energy Surface."
   ]
  },
  {
   "cell_type": "markdown",
   "metadata": {},
   "source": [
    "## Introduction & Background"
   ]
  },
  {
   "cell_type": "markdown",
   "metadata": {},
   "source": [
    "Concepts arising in nonlinear dynamical systems theory, such as periodic orbits, normally hyperbolic invariant manifolds (NHIMs), and stable and unstable manifolds have been introduced into the study of chemical reaction dynamics from the phase space perspective. A fairly substantial literature has been developed on this topic in recent years (see, for example {% cite wiggins2016role; waalkens2010geometrical; waalkens2007wigner; wiggins2013normally %}, and references therein), but it is fair to say that it has a more mathematical flavour, which is not surprising since these concepts originated in the dynamical systems literature. In this book we will  describe how these dynamical notions arise  in a variety of physically motivated settings with the hope of providing a more gentle entry into the field for both applied mathematicians and chemists. \n",
    "\n",
    "An obstacle in interdiscipliary work is the lack of a common language for describing concepts that are common to different fields. We begin with a list of commonly used terms that will arise repeatedly throughout this book and provide a working definition.\n",
    "\n",
    "Molecules are made up of a collection of atoms that are connected by chemical bonds and a reaction is concerned with the breaking, and creation, of these bonds. Hence, the following concepts are fundamental to the description of this phenomena. \n",
    "\n",
    "+ **Coordinates.** The locations of the atoms in a molecule are described by a set of coordinates. The space (that is, all possible values) described by these coordinates is referred to as *configuration space*.\n",
    "\n",
    "\n",
    "+ **Degrees-of-Freedom (DoF).** The number of  DoF is the number of independent coordinates required to describe the configuration of the molecule, that is the dimension of the configuration space.\n",
    "\n",
    "\n",
    "+ **Reaction.** The breaking of a bond can be described by one or more coordinates characterizing the bond becoming unbounded as the it evolves in  time. \n",
    "\n",
    "\n",
    "+ **Reaction coordinate(s).**  The particular coordinate(s) that describe the breaking of the bond are referred to as the *reaction coordinate(s)*.\n",
    "\n",
    "\n",
    "+ **Energy.** The  ability of a bond to break can be characterised by its energy. A bond can be ''energized'' by transferring energy from other bonds in the molecule to a particular bond of interest, or from some external energy source, such as electromagnetic radiation, collision with other molecules, for example. \n",
    "\n",
    "\n",
    "+ **Total Energy, Hamiltonian, momenta.** The total energy (that is, the sum of kinetic energy and potential energy) can be described by a scalar valued function called the *Hamiltonian*. The Hamiltonian is a function of the configuration space coordinates *and* their corresponding canonically conjugate coordinates, which are referred to as *momentum coordinates*.\n",
    "\n",
    "\n",
    "+ **Phase Space.** The collection of all the configuration and momentum coordinates is referred to as the phase space of the system. The dynamics of the system (that is, how it changes in time) is described by Hamilton's (differential) equations of motion defined on phase space. \n",
    "\n",
    "\n",
    "+ **Dimension count.** If the system has *n* configuration space coordinates, it has *n* momentum coordinates and then the phase space dimension is *2n*. The Hamiltonian is a scalar valued function of these  *2n* coordinates. The level set of the Hamiltonian, that is the energy surface, is *2n-1* dimensional. For a time-independent (autonomous) Hamiltonian, the system *conserves energy* and the energy surface is invariant.\n",
    "\n",
    "+ **Transition State Theory (TST).** An approach in reaction rate calculations that is based on the flux across a dividing surface. We give a brief description of the theory in the next section.\n",
    "\n",
    "+ **Dividing Surface (DS).** A DS on the energy surface is of dimension *2n-2*, that is, 1 dimension less (codimension 1) than the *2n-1* dimensional energy surface. While a codimension one surface has the dimensionality necessary to divide the energy surface into two distinct regions and forms the boundary between them. If properly chosen, the two regions are referred to as *reactants* and *products*, and reaction occurs when trajectories evolve from reactants to products through the DS. A DS has the ''locally no-recrossing'' property, which is equivalent to the Hamiltonian vector field being everywhere transverse to a DS, that is at no point is it tangent to the DS.   \n",
    "\n",
    "+ **Locally no-recrossing.** Computation of the flux is accurate only if the DS has the ''locally no-recrossing'' property. A surface has the ''locally no-recrossing'' property if any trajectory that crosses the surface leaves a neighbourhood of the surface before it can return.\n",
    "\n",
    "+ **Globally no-recrossing.** A surface has the ''globally no-recrossing'' property if any trajectory that crosses the surface does so only once.\n",
    "\n",
    "+ **The DS and the Reaction Coordinate.** Following our definitions of reaction, reaction coordinate, and DS it follows that the reaction coordinate should play a role in the definition of the DS. This will be an important point in our discussions that follow.\n",
    "\n"
   ]
  },
  {
   "cell_type": "markdown",
   "metadata": {},
   "source": [
    "## Transition State Theory"
   ]
  },
  {
   "cell_type": "markdown",
   "metadata": {},
   "source": [
    "Transition State Theory is a classical theory developed by Wigner, Eyring, Gwynne Evans and Polanyi;[@Wigner1932;@Eyring1935;@Polanyi1935;@Eyring1941] that calculates the rate of the reaction as the equilibrium flux of reactive trajectories through the DS. Although there has been much discussion of quantum mechanical analogs of TST[@Pechukas1982;@WaalkensWiggins2007], we will briefly discuss in this book the original version based on classical mechanics, since the dividing surface concept, that we use, is incompatible with quantum mechanics. The overview that we give is not supposed to be a review of the vast literature that exists in this area, but to connect the  mathematical study of the geometrical structures that characterize reaction dynamics in phase space. \n",
    "\n",
    "It is commonly claimed that conventional TST makes two main assumptions.[@Mahan1974] \n",
    "\n",
    "- The first, called the equilibrium assumption, requires that the reactant state and TS be in thermal equilibrium. The maintenance of energetic equilibrium means that the thermalization maintaining this equilibrium is (at least) as fast as the rate at which these states are depopulated.[@TruhlarVTST2017;@GarretTruhlarGTST1979] The equilibrium condition is usually satisfied for most gas-phase bimolecular reactions and for reactions in the liquid phase, because energy exchange between solutes and solvent is usually rapid enough to maintain the equilibrium.[@JBAnderson1973;@JBAnderson1995] However, there are cases where equilibrium is not maintained, even in solution.[@EssafiHarvey2018] In addition, for unimolecular reactions of intermediates with low barriers to product formation, it is commonly the case that most trajectories coming from the reactant state will have enough energy in a product-forming reaction coordinate to cross the second barrier as soon as they reach it.[@Carpenter1985;EzraWiggins2014] \n",
    "\n",
    "- The second claimed assumption specifies that any trajectory crossing the TS dividing surface from the reactant state is on a path towards the product state and will reach it without recrossing the dividing surface prior to the product being reached.[@TruhlarVTST1980] Because the rate is calculated as the flux through the TS, any non-reactive trajectory that crosses the TS dividing surface, or reactive trajectory that crosses it more than once will increase the flux through the dividing surface, thus leading to an overestimate of the rate constant. This means that TST gives us an upper limit on the true rate constant, and that if we found a dividing surface without any recrossing then TST would give the exact value of the rate constant (subject to certain caveats[@JCP2016Maug]). \n",
    "\n",
    "In conventional TST the transition state dividing surface is located at the saddle point, which is the maximum energy point on the minimum energy path from reactants to products. However, TST is most powerful in the form of Variational Transition State Theory (VTST),[@TruhlarVTST2017;@GarretTruhlarGTST1979;@TruhlarVTST1980;@TruhlarGarretVTST1984; @GarretTruhlarJCP1979;@Keck1960;@Horiuti1938;@Wigner1937] which is a generalization of TST that removes the restriction on the dividing surface to cross the saddle point. In VTST the dividing surface is variationally optimized to minimize the rate constant, usually by finding the maximum free energy along the reaction path. Although this surface is properly located in phase space, most of the VTST calculations assume that the TS can be found in configuration space.[@Carpenter1985] \n"
   ]
  },
  {
   "cell_type": "markdown",
   "metadata": {},
   "source": [
    "## The index of a saddle point"
   ]
  },
  {
   "cell_type": "markdown",
   "metadata": {},
   "source": [
    "We consider a  *n* degree-of-freedom Hamiltonian of the following form:\n",
    "\n",
    "\\begin{equation}\n",
    "H(q, p) = \\sum_{i=1}^{n} \\frac{p_i^2}{2} + V(q), \\quad (q,p) \\in \\mathbb{R}^n \\times \\mathbb{R}^n,\n",
    "\\label{ham_int}\n",
    "\\end{equation}\n",
    "\n",
    "\n",
    "where $q \\in \\mathbb{R}^n$ denote the configuration space variables and $p \\in \\mathbb{R}^n$ denote the corresponding conjugate momentum variables.  This Hamiltonian function gives rise to the corresponding Hamilton's differential equations (or just ''Hamilton's equations'') having the following form:\n",
    "\n",
    "\\begin{eqnarray}\n",
    "\\dot{q}_i & = & p_i, \\nonumber \\\\\n",
    "\\dot{p}_i & = & -\\frac{\\partial V}{\\partial q_i} (q), \\quad i=1. \\ldots , n.\n",
    "\\label{hameq_int}\n",
    "\\end{eqnarray}\n",
    "\n",
    "\n",
    "These are a set of *2n* first order differential equations defined on the phase space \n",
    "$\\mathbb{R}^n \\times \\mathbb{R}^n$. "
   ]
  },
  {
   "cell_type": "markdown",
   "metadata": {},
   "source": [
    " \n",
    "A critical point of the potential energy function is a point $\\bar{q} \\in \\mathbb{R}^n$ satisfying the following equations:\n",
    "\n",
    "\n",
    "\\begin{equation}\n",
    "\\frac{\\partial V}{\\partial q_i} (\\bar{q}) =0, \\quad i=1, \\ldots n.\n",
    "\\end{equation}\n",
    "\n",
    "Once a critical point of the potential energy function is located, we want to ''classify'' it. This is done by examining the second derivative of the potential energy function evaluated at the critical point. The second derivative matrix  is referred to as the *Hessian matrix*, and it is given by:\n",
    "\n",
    "\\begin{equation}\n",
    "\\frac{\\partial^2 V}{\\partial q_i \\partial q_j} (\\bar{q}) =0, \\quad i,j=1, \\ldots n,\n",
    "\\label{hessian}\n",
    "\\end{equation}\n",
    "\n",
    "\n",
    "which is a $n \\times n$ symmetric matrix. Hence \\eqref{hessian} has *n* real eigenvalues, which we denote by:\n",
    "\n",
    "\\begin{equation}\n",
    "\\sigma_k, \\quad k=1, \\ldots, n.\n",
    "\\label{eiv_Hess}\n",
    "\\end{equation}"
   ]
  },
  {
   "cell_type": "markdown",
   "metadata": {},
   "source": [
    "However, returning to dynamics as  given by Hamilton's equations \\eqref{hameq_int}, the point $(\\bar{q}, 0)$ is an equilibrium point of Hamilton's equations, i.e. when this point is substituted into the right-hand-side of \\eqref{hameq_int} we obtain $(\\dot{q}_1, \\ldots, \\dot{q}_n, \\dot{p}_1, \\ldots, \\dot{p}_n) = (0, \\ldots, 0, 0, \\ldots, 0)$, i.e. the point $(\\bar{q}, 0)$ does not change in time.\n",
    "\n",
    "Next, we want to determine the nature of the stability of this equilibrium point. Linearized stability is determined by computing the Jacobian of the right hand side of  \\eqref{hameq_int}, which we will denote by $M$, evaluating it at the equilibrium point $(\\bar{q}, 0)$, and determining its eigenvalues.  The following calculation  is from {% cite ezra2004impenetrable %}. \n",
    "The Jacobian of the Hamiltonian vector field  \\eqref{hameq_int} evaluated at $(\\bar{q}, 0)$ is given by:\n",
    "\n",
    "\n",
    "\\begin{equation}\n",
    "M = \n",
    "\\left(\n",
    "\\begin{array}{cc}\n",
    "0_{n\\times n} &  \\rm{id}_{n \\times n} \\\\\n",
    "-\\frac{\\partial^2 V}{\\partial q_i \\partial q_j} (\\bar{q}) & 0_{n\\times n} \n",
    "\\end{array}\n",
    "\\right),\n",
    "\\end{equation}\n",
    "\n",
    "\n",
    "which is a $2n \\times 2n$ matrix.  The eigenvalues of $M$, denoted by $\\lambda$,  are given by the solutions of the following characteristic equation:\n",
    "\n",
    "\\begin{equation}\n",
    "{\\rm det} \\, \\left( M - \\lambda \\, {\\rm id}_{2n \\times 2n} \\right) =0,\n",
    "\\label{eivM}\n",
    "\\end{equation}\n",
    "\n",
    "\n",
    "where ${\\rm id}_{2n \\times 2n}$ denoted the $2n \\times 2n$ identity matrix. Writing \\eqref{eivM} in detail (i.e. using the explicit expression for the Jacobian of \\eqref{hameq_int}) gives:\n",
    "\n",
    "\n",
    "\n",
    "\\begin{equation}\n",
    "{\\rm det} \\, \n",
    "\\left(\n",
    "\\begin{array}{cc}\n",
    "-\\lambda \\, \\rm{id}_{n \\times n} & \\rm{id}_{n \\times n} \\\\\n",
    " -\\frac{\\partial^2 V}{\\partial q_i \\partial q_j} (\\bar{q}) & -\\lambda \\rm{id}_{n \\times n}\n",
    " \\end{array}\n",
    " \\right) =  {\\rm det} \\,  \\left(\\lambda^2 \\, \\rm{id}_{n \\times n}  + \\frac{\\partial^2 V}{\\partial q_i \\partial q_j} (\\bar{q})  \\right) =0.\n",
    " \\end{equation}\n",
    " \n",
    "We can conclude from this calculation that the eigenvalues of the $n \\times n$ symmetric matrix $\\frac{\\partial^2 V}{\\partial q_i \\partial q_j} (\\bar{q})$ are $-\\lambda^2$, where $\\lambda$ are the eigenvalues of  the $n \\times n$ matrix $M$. Hence, the eigenvalues of $M$ occur in pairs,  denoted by\n",
    " $\\lambda_k, \\, \\lambda_{k+n}, \\, k=1, \\ldots n$, which have the form:\n",
    " \n",
    "\n",
    "\n",
    "\\begin{equation}\n",
    "\\lambda_k, \\, \\lambda_{k+n} = \\pm \\sqrt{-\\sigma_k},  \\quad k=1, \\ldots, n,\n",
    "\\end{equation}\n",
    "\n",
    "\n",
    "\n",
    "where $\\sigma_k$ are the eigenvalues of the Hessian of the potential energy evaluated at the critical point $\\bar{q}$ as denoted in \\eqref{eiv_Hess}.  Hence,\n",
    "we see that  the existence of equilibrium points of Hamilton's equations of ''saddle-like stability''  implies that there must be *at least* one negative eigenvalue of \\eqref{hessian}. In fact, we have the following classification of the linearized stability of saddle-type equilibrium points of Hamilton's equations in terms of  the  critical points of the  potential energy surface.\n"
   ]
  },
  {
   "cell_type": "markdown",
   "metadata": {},
   "source": [
    "+ **Index 1 saddle.** One eigenvalue of \\eqref{hessian} is positive, the rest are  negative. We will assume that none of the eigenvalues of \\eqref{hessian} are zero. Zero eigenvalues  give rise to special cases that must be dealt with separately. In the mathematics literature, these are often referred to as *saddle-center-$\\cdots$-center equilibria*, with the number of center-$\\cdots$-center terms equal to the number of pairs of pure imaginary eigenvalues.\n",
    "\n",
    "+ **Index 2 saddle.**  Two eigenvalues of \\eqref{hessian} are positive, the rest are  negative\n",
    "\n",
    "\n",
    "and in general,\n",
    "\n",
    "\n",
    "+ **Index k saddle.**  *k* eigenvalues of \\eqref{hessian} are positive,thevrestvare negativev($k \\le n$).\n"
   ]
  },
  {
   "cell_type": "markdown",
   "metadata": {},
   "source": [
    "## References"
   ]
  }
 ],
 "metadata": {
  "file_extension": ".py",
  "kernelspec": {
   "display_name": "Python 3",
   "language": "python",
   "name": "python3"
  },
  "language_info": {
   "codemirror_mode": {
    "name": "ipython",
    "version": 3
   },
   "file_extension": ".py",
   "mimetype": "text/x-python",
   "name": "python",
   "nbconvert_exporter": "python",
   "pygments_lexer": "ipython3",
   "version": "3.6.5"
  },
  "mimetype": "text/x-python",
  "name": "python",
  "npconvert_exporter": "python",
  "pygments_lexer": "ipython3",
  "version": 3
 },
 "nbformat": 4,
 "nbformat_minor": 4
}
