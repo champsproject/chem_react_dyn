{
 "cells": [
  {
   "cell_type": "markdown",
   "metadata": {},
   "source": [
    "# The index of a saddle point"
   ]
  },
  {
   "cell_type": "markdown",
   "metadata": {},
   "source": [
    "We consider a  *n* degree-of-freedom Hamiltonian of the following form:\n",
    "\n",
    "\\begin{equation}\n",
    "H(q, p) = \\sum_{i=1}^{n} \\frac{p_i^2}{2} + V(q), \\quad (q,p) \\in \\mathbb{R}^n \\times \\mathbb{R}^n,\n",
    "\\label{ham_int}\n",
    "\\end{equation}\n",
    "\n",
    "\n",
    "where $q \\in \\mathbb{R}^n$ denote the configuration space variables and $p \\in \\mathbb{R}^n$ denote the corresponding conjugate momentum variables.  This Hamiltonian function gives rise to the corresponding Hamilton's differential equations (or just `'Hamilton's equations'') having the following form:\n",
    "\n",
    "\\begin{eqnarray}\n",
    "\\dot{q}_i & = & p_i, \\nonumber \\\\\n",
    "\\dot{p}_i & = & -\\frac{\\partial V}{\\partial q_i} (q), \\quad i=1. \\ldots , n.\n",
    "\\label{hameq_int}\n",
    "\\end{eqnarray}\n",
    "\n",
    "\n",
    "These are a set of *2n* first order differential equations defined on the phase space \n",
    "$\\mathbb{R}^n \\times \\mathbb{R}^n$. "
   ]
  },
  {
   "cell_type": "markdown",
   "metadata": {},
   "source": [
    " \n",
    "A critical point of the potential energy function is a point $\\bar{q} \\in \\mathbb{R}^n$ satisfying the following equations:\n",
    "\n",
    "\n",
    "\\begin{equation}\n",
    "\\frac{\\partial V}{\\partial q_i} (\\bar{q}) =0, \\quad i=1, \\ldots n.\n",
    "\\end{equation}\n",
    "\n",
    "\\noindent\n",
    "Once a critical point of the potential energy function is located, we want to `'classify'' it. This is done by examining the second derivative of the potential energy function evaluated at the critical point. The second derivative matrix  is referred to as the *Hessian matrix*, and it is given by:\n",
    "\n",
    "\\begin{equation}\n",
    "\\frac{\\partial^2 V}{\\partial q_i \\partial q_j} (\\bar{q}) =0, \\quad i,j=1, \\ldots n,\n",
    "\\label{hessian}\n",
    "\\end{equation}\n",
    "\n",
    "\n",
    "which is a $n \\times n$ symmetric matrix. Hence \\eqref{hessian} has *n* real eigenvalues, which we denote by:\n",
    "\n",
    "\\begin{equation}\n",
    "\\sigma_k, \\quad k=1, \\ldots, n.\n",
    "\\label{eiv_Hess}\n",
    "\\end{equation}"
   ]
  },
  {
   "cell_type": "markdown",
   "metadata": {},
   "source": [
    "However, returning to dynamics as  given by Hamilton's equations \\eqref{hameq_int}, the point $(\\bar{q}, 0)$ is an equilibrium point of Hamilton's equations, i.e. when this point is substituted into the right-hand-side of \\eqref{hameq_int} we obtain $(\\dot{q}_1, \\ldots, \\dot{q}_n, \\dot{p}_1, \\ldots, \\dot{p}_n) = (0, \\ldots, 0, 0, \\ldots, 0)$, i.e. the point $(\\bar{q}, 0)$ does not change in time.\n",
    "\n",
    "Next, we want to determine the nature of the stability of this equilibrium point. Linearized stability is determined by computing the Jacobian of the right hand side of  \\eqref{hameq_int}, which we will denote by $M$,    evaluating it at the equilibrium point $(\\bar{q}, 0)$, and determining its eigenvalues.  The following calculation  is from {% cite ezra2004impenetrable %}. \n",
    "The Jacobian of the Hamiltonian vector field  \\eqref{hameq_int} evaluated at $(\\bar{q}, 0)$ is given by:\n",
    "\n",
    "\n",
    "\\begin{equation}\n",
    "M = \n",
    "\\left(\n",
    "\\begin{array}{cc}\n",
    "0_{n\\times n} &  \\rm{id}_{n \\times n} \\\\\n",
    "-\\frac{\\partial^2 V}{\\partial q_i \\partial q_j} (\\bar{q}) & 0_{n\\times n} \n",
    "\\end{array}\n",
    "\\right),\n",
    "\\end{equation}\n",
    "\n",
    "\n",
    "which is a $2n \\times 2n$ matrix.  The eigenvalues of $M$, denoted by $\\lambda$,  are given by the solutions of the following characteristic equation:\n",
    "\n",
    "\\begin{equation}\n",
    "{\\rm det} \\, \\left( M - \\lambda \\, {\\rm id}_{2n \\times 2n} \\right) =0,\n",
    "\\label{eivM}\n",
    "\\end{equation}\n",
    "\n",
    "\n",
    "where ${\\rm id}_{2n \\times 2n}$ denoted the $2n \\times 2n$ identity matrix. Writing \\eqref{eivM} in detail (i.e. using the explicit expression for the Jacobian of \\eqref{hameq_int}) gives:\n",
    "\n",
    "\n",
    "\n",
    "\\begin{equation}\n",
    "{\\rm det} \\, \n",
    "\\left(\n",
    "\\begin{array}{cc}\n",
    "-\\lambda \\, \\rm{id}_{n \\times n} & \\rm{id}_{n \\times n} \\\\\n",
    " -\\frac{\\partial^2 V}{\\partial q_i \\partial q_j} (\\bar{q}) & -\\lambda \\rm{id}_{n \\times n}\n",
    " \\end{array}\n",
    " \\right) =  {\\rm det} \\,  \\left(\\lambda^2 \\, \\rm{id}_{n \\times n}  + \\frac{\\partial^2 V}{\\partial q_i \\partial q_j} (\\bar{q})  \\right) =0.\n",
    " \\end{equation}\n",
    " \n",
    "We can conclude from this calculation that the eigenvalues of the $n \\times n$ symmetric matrix $\\frac{\\partial^2 V}{\\partial q_i \\partial q_j} (\\bar{q})$ are $-\\lambda^2$, where $\\lambda$ are the eigenvalues of  the $n \\times n$ matrix $M$. Hence, the eigenvalues of $M$ occur in pairs,  denoted by\n",
    " $\\lambda_k, \\, \\lambda_{k+n}, \\, k=1, \\ldots n$, which have the form:\n",
    " \n",
    "\n",
    "\n",
    "\\begin{equation}\n",
    "\\lambda_k, \\, \\lambda_{k+n} = \\pm \\sqrt{-\\sigma_k},  \\quad k=1, \\ldots, n,\n",
    "\\end{equation}\n",
    "\n",
    "\n",
    "\n",
    "where $\\sigma_k$ are the eigenvalues of the Hessian of the potential energy evaluated at the critical point $\\bar{q}$ as denoted in \\eqref{eiv_Hess}.  Hence,\n",
    "we see that  the existence of equilibrium points of Hamilton's equations of `'saddle-like stability''  implies that there must be *at least* one negative eigenvalue of \\eqref{hessian}. In fact, we have the following classification of the linearized stability of saddle-type equilibrium points of Hamilton's equations in terms of  the  critical points of the  potential energy surface.\n"
   ]
  },
  {
   "cell_type": "markdown",
   "metadata": {},
   "source": [
    "+ **Index 1 saddle.** One eigenvalue of \\eqref{hessian} is positive, the rest are  negative. We will assume that none of the eigenvalues of \\eqref{hessian} are zero. Zero eigenvalues  give rise to special cases that must be dealt with separately. In the mathematics literature, these are often referred to as *saddle-center-$\\cdots$-center equilibria*, with the number of center-$\\cdots$-center terms equal to the number of pairs of pure imaginary eigenvalues.\n",
    "\n",
    "+ **Index 2 saddle.**  Two eigenvalues of \\eqref{hessian} are positive, the rest are  negative\n",
    "\n",
    "\n",
    "and in general,\n",
    "\n",
    "\n",
    "+ **Index k saddle.**  *k* eigenvalues of \\eqref{hessian} are positive,thevrestvare negativev($k \\le n$).\n"
   ]
  }
 ],
 "metadata": {
  "kernelspec": {
   "display_name": "Python 3",
   "language": "python",
   "name": "python3"
  },
  "language_info": {
   "codemirror_mode": {
    "name": "ipython",
    "version": 3
   },
   "file_extension": ".py",
   "mimetype": "text/x-python",
   "name": "python",
   "nbconvert_exporter": "python",
   "pygments_lexer": "ipython3",
   "version": "3.6.1"
  },
  "latex_envs": {
   "LaTeX_envs_menu_present": true,
   "autoclose": false,
   "autocomplete": true,
   "bibliofile": "/Users/bas/research/book_sprint/champs-booksprint-planning/convert_tex2html/article_test/sample.bib",
   "cite_by": "apalike",
   "current_citInitial": 1,
   "eqLabelWithNumbers": true,
   "eqNumInitial": 1,
   "hotkeys": {
    "equation": "Ctrl-E",
    "itemize": "Ctrl-I"
   },
   "labels_anchors": false,
   "latex_user_defs": false,
   "report_style_numbering": false,
   "user_envs_cfg": false
  },
  "toc": {
   "base_numbering": 1,
   "nav_menu": {},
   "number_sections": true,
   "sideBar": true,
   "skip_h1_title": false,
   "title_cell": "Table of Contents",
   "title_sidebar": "Contents",
   "toc_cell": false,
   "toc_position": {},
   "toc_section_display": true,
   "toc_window_display": true
  }
 },
 "nbformat": 4,
 "nbformat_minor": 2
}
